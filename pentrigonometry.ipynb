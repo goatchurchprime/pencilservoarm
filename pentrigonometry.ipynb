{
 "cells": [
  {
   "cell_type": "code",
   "execution_count": 1,
   "metadata": {
    "collapsed": true
   },
   "outputs": [],
   "source": [
    "import sympy, math\n",
    "from sympy.interactive import printing\n",
    "printing.init_printing(use_latex=True)\n",
    "\n",
    "a, b, h, x, p, s = sympy.symbols(\"a b h x p s\")\n",
    "# h + s*cos(a) = p*sin(b)\n",
    "# x = s*sin(a) + p*cos(b)\n",
    "\n",
    "ss = {\"h\":37, \"s\":73, \"p\":150, \"x\":106}\n",
    "\n",
    "eqs = [h+s*sympy.cos(a) - p*sympy.sin(b), \n",
    "       x-s*sympy.sin(a) - p*sympy.cos(b)]\n",
    "# minx = math.sqrt(p**2 - (h+s)**2) when a=0"
   ]
  },
  {
   "cell_type": "code",
   "execution_count": 3,
   "metadata": {},
   "outputs": [
    {
     "data": {
      "image/png": "[encoded data removed]",
      "text/latex": [
       "$$\\operatorname{acos}{\\left (- \\frac{1}{s} \\left(h - p \\sin{\\left (2 \\operatorname{atan}{\\left (\\frac{1}{h^{2} + p^{2} + 2 p x - s^{2} + x^{2}} \\left(2 h p + \\sqrt{- h^{4} + 2 h^{2} p^{2} + 2 h^{2} s^{2} - 2 h^{2} x^{2} - p^{4} + 2 p^{2} s^{2} + 2 p^{2} x^{2} - s^{4} + 2 s^{2} x^{2} - x^{4}}\\right) \\right )} \\right )}\\right) \\right )}$$"
      ],
      "text/plain": [
       "    ⎛ ⎛         ⎛      ⎛           ___________________________________________\n",
       "    ⎜ ⎜         ⎜      ⎜          ╱    4      2  2      2  2      2  2    4   \n",
       "    ⎜ ⎜         ⎜      ⎜2⋅h⋅p + ╲╱  - h  + 2⋅h ⋅p  + 2⋅h ⋅s  - 2⋅h ⋅x  - p  + \n",
       "    ⎜-⎜h - p⋅sin⎜2⋅atan⎜──────────────────────────────────────────────────────\n",
       "    ⎜ ⎜         ⎜      ⎜                                  2    2            2 \n",
       "    ⎜ ⎝         ⎝      ⎝                                 h  + p  + 2⋅p⋅x - s  \n",
       "acos⎜─────────────────────────────────────────────────────────────────────────\n",
       "    ⎝                                                         s               \n",
       "\n",
       "______________________________________⎞⎞⎞ ⎞\n",
       "   2  2      2  2    4      2  2    4 ⎟⎟⎟ ⎟\n",
       "2⋅p ⋅s  + 2⋅p ⋅x  - s  + 2⋅s ⋅x  - x  ⎟⎟⎟ ⎟\n",
       "──────────────────────────────────────⎟⎟⎟ ⎟\n",
       "   2                                  ⎟⎟⎟ ⎟\n",
       "+ x                                   ⎠⎠⎠ ⎟\n",
       "──────────────────────────────────────────⎟\n",
       "                                          ⎠"
      ]
     },
     "execution_count": 3,
     "metadata": {},
     "output_type": "execute_result"
    }
   ],
   "source": [
    "solns = sympy.solve(eqs, (a,b))\n",
    "sa, sb = solns[3]\n",
    "sa"
   ]
  },
  {
   "cell_type": "code",
   "execution_count": 4,
   "metadata": {},
   "outputs": [
    {
     "data": {
      "image/png": "[encoded data removed]",
      "text/latex": [
       "$$2 \\operatorname{atan}{\\left (\\frac{1}{h^{2} + p^{2} + 2 p x - s^{2} + x^{2}} \\left(2 h p + \\sqrt{- h^{4} + 2 h^{2} p^{2} + 2 h^{2} s^{2} - 2 h^{2} x^{2} - p^{4} + 2 p^{2} s^{2} + 2 p^{2} x^{2} - s^{4} + 2 s^{2} x^{2} - x^{4}}\\right) \\right )}$$"
      ],
      "text/plain": [
       "      ⎛           ____________________________________________________________\n",
       "      ⎜          ╱    4      2  2      2  2      2  2    4      2  2      2  2\n",
       "      ⎜2⋅h⋅p + ╲╱  - h  + 2⋅h ⋅p  + 2⋅h ⋅s  - 2⋅h ⋅x  - p  + 2⋅p ⋅s  + 2⋅p ⋅x \n",
       "2⋅atan⎜───────────────────────────────────────────────────────────────────────\n",
       "      ⎜                                  2    2            2    2             \n",
       "      ⎝                                 h  + p  + 2⋅p⋅x - s  + x              \n",
       "\n",
       "_____________________⎞\n",
       "    4      2  2    4 ⎟\n",
       " - s  + 2⋅s ⋅x  - x  ⎟\n",
       "─────────────────────⎟\n",
       "                     ⎟\n",
       "                     ⎠"
      ]
     },
     "execution_count": 4,
     "metadata": {},
     "output_type": "execute_result"
    }
   ],
   "source": [
    "sb"
   ]
  },
  {
   "cell_type": "code",
   "execution_count": 5,
   "metadata": {},
   "outputs": [
    {
     "data": {
      "image/png": "[encoded data removed]",
      "text/latex": [
       "$$\\left ( 0.0535444535333438, \\quad 0.82218665247129\\right )$$"
      ],
      "text/plain": [
       "(0.0535444535333438, 0.82218665247129)"
      ]
     },
     "execution_count": 5,
     "metadata": {},
     "output_type": "execute_result"
    }
   ],
   "source": [
    "va, vb = sa.subs(ss).evalf(), sb.subs(ss).evalf()\n",
    "va, vb"
   ]
  },
  {
   "cell_type": "code",
   "execution_count": 6,
   "metadata": {},
   "outputs": [
    {
     "data": {
      "image/png": "[encoded data removed]",
      "text/latex": [
       "$$\\left ( 0, \\quad 0\\right )$$"
      ],
      "text/plain": [
       "(0, 0)"
      ]
     },
     "execution_count": 6,
     "metadata": {},
     "output_type": "execute_result"
    }
   ],
   "source": [
    "eqs[0].subs(ss).subs({\"a\":va, \"b\":vb}).evalf(), eqs[1].subs(ss).subs({\"a\":va, \"b\":vb}).evalf()"
   ]
  },
  {
   "cell_type": "code",
   "execution_count": 7,
   "metadata": {},
   "outputs": [
    {
     "data": {
      "image/png": "[encoded data removed]",
      "text/latex": [
       "$$0$$"
      ],
      "text/plain": [
       "0"
      ]
     },
     "execution_count": 7,
     "metadata": {},
     "output_type": "execute_result"
    }
   ],
   "source": [
    "eqs[0].subs({\"a\":sa, \"b\":sb})"
   ]
  },
  {
   "cell_type": "code",
   "execution_count": 8,
   "metadata": {},
   "outputs": [
    {
     "data": {
      "image/png": "[encoded data removed]",
      "text/latex": [
       "$$2.0 \\cdot 10^{-125}$$"
      ],
      "text/plain": [
       "0.e-125"
      ]
     },
     "execution_count": 8,
     "metadata": {},
     "output_type": "execute_result"
    }
   ],
   "source": [
    "# does not properly cancel\n",
    "eqs[1].subs({\"a\":sa, \"b\":sb}).subs(ss).evalf()"
   ]
  },
  {
   "cell_type": "code",
   "execution_count": 9,
   "metadata": {},
   "outputs": [
    {
     "data": {
      "image/png": "[encoded data removed]",
      "text/latex": [
       "$$h^{2} + 2 h s \\cos{\\left (a \\right )} - p^{2} + s^{2} - 2 s x \\sin{\\left (a \\right )} + x^{2}$$"
      ],
      "text/plain": [
       " 2                   2    2                   2\n",
       "h  + 2⋅h⋅s⋅cos(a) - p  + s  - 2⋅s⋅x⋅sin(a) + x "
      ]
     },
     "execution_count": 9,
     "metadata": {},
     "output_type": "execute_result"
    }
   ],
   "source": [
    "# now add a number, square it, and subtract the square, and it should be zero\n",
    "# to successfully cancel out the b values\n",
    "eqs1= [((eqs[0] + p*sympy.sin(b))**2 - (p*sympy.sin(b))**2), \n",
    "     ((eqs[1] + p*sympy.cos(b))**2 - (p*sympy.cos(b))**2) ]\n",
    "eqs2 = (eqs1[0]+eqs1[1]).simplify()\n",
    "eqs2\n"
   ]
  },
  {
   "cell_type": "code",
   "execution_count": 10,
   "metadata": {},
   "outputs": [
    {
     "data": {
      "image/png": "[encoded data removed]",
      "text/latex": [
       "$$2 \\operatorname{atan}{\\left (\\frac{1}{h^{2} - 2 h s - p^{2} + s^{2} + x^{2}} \\left(2 s x - \\sqrt{\\left(- h^{2} + p^{2} + 2 p s + s^{2} - x^{2}\\right) \\left(h^{2} - p^{2} + 2 p s - s^{2} + x^{2}\\right)}\\right) \\right )}$$"
      ],
      "text/plain": [
       "      ⎛           ___________________________________________________________⎞\n",
       "      ⎜          ╱ ⎛   2    2            2    2⎞ ⎛ 2    2            2    2⎞ ⎟\n",
       "      ⎜2⋅s⋅x - ╲╱  ⎝- h  + p  + 2⋅p⋅s + s  - x ⎠⋅⎝h  - p  + 2⋅p⋅s - s  + x ⎠ ⎟\n",
       "2⋅atan⎜──────────────────────────────────────────────────────────────────────⎟\n",
       "      ⎜                       2            2    2    2                       ⎟\n",
       "      ⎝                      h  - 2⋅h⋅s - p  + s  + x                        ⎠"
      ]
     },
     "execution_count": 10,
     "metadata": {},
     "output_type": "execute_result"
    }
   ],
   "source": [
    "sa = sympy.solve(eqs2, a)[0]\n",
    "sa"
   ]
  },
  {
   "cell_type": "code",
   "execution_count": 38,
   "metadata": {},
   "outputs": [
    {
     "data": {
      "image/png": "[encoded data removed]",
      "text/latex": [
       "$$0.0535444535333437$$"
      ],
      "text/plain": [
       "0.0535444535333437"
      ]
     },
     "execution_count": 38,
     "metadata": {},
     "output_type": "execute_result"
    }
   ],
   "source": [
    "sa.subs(ss).evalf()"
   ]
  },
  {
   "cell_type": "code",
   "execution_count": 49,
   "metadata": {},
   "outputs": [
    {
     "data": {
      "image/png": "[encoded data removed]",
      "text/latex": [
       "$$\\left ( 2 \\operatorname{atan}{\\left (\\frac{1}{- p^{2} + x^{2} + \\left(h - s\\right)^{2}} \\left(2 s x - \\sqrt{\\left(- h^{2} - x^{2} + \\left(p + s\\right)^{2}\\right) \\left(h^{2} + x^{2} - \\left(p - s\\right)^{2}\\right)}\\right) \\right )}, \\quad \\operatorname{acos}{\\left (\\frac{1}{p} \\left(- s \\sin{\\left (2 \\operatorname{atan}{\\left (\\frac{1}{- p^{2} + x^{2} + \\left(h - s\\right)^{2}} \\left(2 s x - \\sqrt{\\left(- h^{2} - x^{2} + \\left(p + s\\right)^{2}\\right) \\left(h^{2} + x^{2} - \\left(p - s\\right)^{2}\\right)}\\right) \\right )} \\right )} + x\\right) \\right )}\\right )$$"
      ],
      "text/plain": [
       "⎛                                                                      ⎛      \n",
       "⎜                                                                      ⎜      \n",
       "⎜                                                                      ⎜      \n",
       "⎜      ⎛           _____________________________________________⎞      ⎜- s⋅si\n",
       "⎜      ⎜          ╱ ⎛   2    2          2⎞ ⎛ 2    2          2⎞ ⎟      ⎜      \n",
       "⎜      ⎜2⋅s⋅x - ╲╱  ⎝- h  - x  + (p + s) ⎠⋅⎝h  + x  - (p - s) ⎠ ⎟      ⎜      \n",
       "⎜2⋅atan⎜────────────────────────────────────────────────────────⎟, acos⎜──────\n",
       "⎜      ⎜                     2    2          2                  ⎟      ⎝      \n",
       "⎝      ⎝                  - p  + x  + (h - s)                   ⎠             \n",
       "\n",
       " ⎛      ⎛           _____________________________________________⎞⎞    ⎞⎞\n",
       " ⎜      ⎜          ╱ ⎛   2    2          2⎞ ⎛ 2    2          2⎞ ⎟⎟    ⎟⎟\n",
       " ⎜      ⎜2⋅s⋅x - ╲╱  ⎝- h  - x  + (p + s) ⎠⋅⎝h  + x  - (p - s) ⎠ ⎟⎟    ⎟⎟\n",
       "n⎜2⋅atan⎜────────────────────────────────────────────────────────⎟⎟ + x⎟⎟\n",
       " ⎜      ⎜                     2    2          2                  ⎟⎟    ⎟⎟\n",
       " ⎝      ⎝                  - p  + x  + (h - s)                   ⎠⎠    ⎟⎟\n",
       "───────────────────────────────────────────────────────────────────────⎟⎟\n",
       "                                p                                      ⎠⎟\n",
       "                                                                        ⎠"
      ]
     },
     "execution_count": 49,
     "metadata": {},
     "output_type": "execute_result"
    }
   ],
   "source": [
    "# leads to the shortest solution\n",
    "hps1 = -h**2 + (p+s)**2\n",
    "hps2 = h**2 - (p-s)**2\n",
    "hps3 = (h-s)**2 - p**2\n",
    "\n",
    "x2 = x**2\n",
    "sa = 2*sympy.atan((2*s*x - sympy.sqrt((hps1 - x2)*(hps2 + x2)))/(hps3 + x2))\n",
    "sb = sympy.acos((-s*sympy.sin(a) + x)/p)\n",
    "\n",
    "sa, sb"
   ]
  },
  {
   "cell_type": "code",
   "execution_count": 50,
   "metadata": {},
   "outputs": [
    {
     "data": {
      "image/png": "[encoded data removed]",
      "text/latex": [
       "$$0.0535444535333437$$"
      ],
      "text/plain": [
       "0.0535444535333437"
      ]
     },
     "execution_count": 50,
     "metadata": {},
     "output_type": "execute_result"
    }
   ],
   "source": [
    "sa.subs(ss).evalf()"
   ]
  },
  {
   "cell_type": "code",
   "execution_count": 51,
   "metadata": {},
   "outputs": [
    {
     "data": {
      "image/png": "[encoded data removed]",
      "text/latex": [
       "$$0$$"
      ],
      "text/plain": [
       "0"
      ]
     },
     "execution_count": 51,
     "metadata": {},
     "output_type": "execute_result"
    }
   ],
   "source": [
    "eqs[1].subs({\"a\":sa, \"b\":sb})"
   ]
  },
  {
   "cell_type": "code",
   "execution_count": 57,
   "metadata": {},
   "outputs": [
    {
     "data": {
      "image/png": "[encoded data removed]",
      "text/latex": [
       "$$h - p \\sqrt{1 - \\frac{1}{p^{2}} \\left(s \\sin{\\left (2 \\operatorname{atan}{\\left (\\frac{1}{- p^{2} + x^{2} + \\left(h - s\\right)^{2}} \\left(2 s x - \\sqrt{- \\left(h^{2} + x^{2} - \\left(p - s\\right)^{2}\\right) \\left(h^{2} + x^{2} - \\left(p + s\\right)^{2}\\right)}\\right) \\right )} \\right )} - x\\right)^{2}} + s \\cos{\\left (2 \\operatorname{atan}{\\left (\\frac{1}{- p^{2} + x^{2} + \\left(h - s\\right)^{2}} \\left(2 s x - \\sqrt{- \\left(h^{2} + x^{2} - \\left(p - s\\right)^{2}\\right) \\left(h^{2} + x^{2} - \\left(p + s\\right)^{2}\\right)}\\right) \\right )} \\right )}$$"
      ],
      "text/plain": [
       "                 _____________________________________________________________\n",
       "                ╱                                                             \n",
       "               ╱      ⎛     ⎛      ⎛           _______________________________\n",
       "              ╱       ⎜     ⎜      ⎜          ╱  ⎛ 2    2          2⎞ ⎛ 2    2\n",
       "             ╱        ⎜     ⎜      ⎜2⋅s⋅x - ╲╱  -⎝h  + x  - (p - s) ⎠⋅⎝h  + x \n",
       "            ╱         ⎜s⋅sin⎜2⋅atan⎜──────────────────────────────────────────\n",
       "           ╱          ⎜     ⎜      ⎜                     2    2          2    \n",
       "          ╱           ⎝     ⎝      ⎝                  - p  + x  + (h - s)     \n",
       "h - p⋅   ╱        1 - ────────────────────────────────────────────────────────\n",
       "        ╱                                                    2                \n",
       "      ╲╱                                                    p                 \n",
       "\n",
       "______________________                                                        \n",
       "                    2                                                         \n",
       "_____________⎞⎞    ⎞                                                          \n",
       "          2⎞ ⎟⎟    ⎟                                                          \n",
       " - (p + s) ⎠ ⎟⎟    ⎟                                                          \n",
       "─────────────⎟⎟ - x⎟          ⎛      ⎛           _____________________________\n",
       "             ⎟⎟    ⎟          ⎜      ⎜          ╱  ⎛ 2    2          2⎞ ⎛ 2   \n",
       "             ⎠⎠    ⎠          ⎜      ⎜2⋅s⋅x - ╲╱  -⎝h  + x  - (p - s) ⎠⋅⎝h  + \n",
       "─────────────────────  + s⋅cos⎜2⋅atan⎜────────────────────────────────────────\n",
       "                              ⎜      ⎜                     2    2          2  \n",
       "                              ⎝      ⎝                  - p  + x  + (h - s)   \n",
       "\n",
       "                 \n",
       "                 \n",
       "                 \n",
       "                 \n",
       "                 \n",
       "_______________⎞⎞\n",
       " 2          2⎞ ⎟⎟\n",
       "x  - (p + s) ⎠ ⎟⎟\n",
       "───────────────⎟⎟\n",
       "               ⎟⎟\n",
       "               ⎠⎠"
      ]
     },
     "execution_count": 57,
     "metadata": {},
     "output_type": "execute_result"
    }
   ],
   "source": [
    "eqs[0].subs({\"a\":sa, \"b\":sb}).simplify()"
   ]
  },
  {
   "cell_type": "code",
   "execution_count": 54,
   "metadata": {},
   "outputs": [
    {
     "data": {
      "image/png": "[encoded data removed]",
      "text/latex": [
       "$$2.0 \\cdot 10^{-123}$$"
      ],
      "text/plain": [
       "0.e-123"
      ]
     },
     "execution_count": 54,
     "metadata": {},
     "output_type": "execute_result"
    }
   ],
   "source": [
    "eqs[0].subs({\"a\":sa, \"b\":sb}).subs(ss).evalf()"
   ]
  },
  {
   "cell_type": "code",
   "execution_count": 73,
   "metadata": {},
   "outputs": [
    {
     "data": {
      "image/png": "[encoded data removed]",
      "text/latex": [
       "$$\\left [ - 2 \\operatorname{atan}{\\left (\\frac{1}{h - k} \\left(x - \\sqrt{h^{2} - k^{2} + x^{2}}\\right) \\right )}, \\quad - 2 \\operatorname{atan}{\\left (\\frac{1}{h - k} \\left(x + \\sqrt{h^{2} - k^{2} + x^{2}}\\right) \\right )}\\right ]$$"
      ],
      "text/plain": [
       "⎡       ⎛       ______________⎞         ⎛       ______________⎞⎤\n",
       "⎢       ⎜      ╱  2    2    2 ⎟         ⎜      ╱  2    2    2 ⎟⎥\n",
       "⎢       ⎜x - ╲╱  h  - k  + x  ⎟         ⎜x + ╲╱  h  - k  + x  ⎟⎥\n",
       "⎢-2⋅atan⎜─────────────────────⎟, -2⋅atan⎜─────────────────────⎟⎥\n",
       "⎣       ⎝        h - k        ⎠         ⎝        h - k        ⎠⎦"
      ]
     },
     "execution_count": 73,
     "metadata": {},
     "output_type": "execute_result"
    }
   ],
   "source": [
    "# the by hand solution of eqs2\n",
    "k = sympy.symbols(\"k\")\n",
    "eqs3 = (eqs2 - (x**2 + h**2 + s**2 - p**2))/(2*s) + k\n",
    "sympy.solve(eqs3, a)"
   ]
  },
  {
   "cell_type": "code",
   "execution_count": 77,
   "metadata": {},
   "outputs": [
    {
     "data": {
      "image/png": "[encoded data removed]",
      "text/latex": [
       "$$\\frac{1}{\\sqrt{h^{2} + x^{2}}} \\left(h \\cos{\\left (a \\right )} + k - x \\sin{\\left (a \\right )}\\right)$$"
      ],
      "text/plain": [
       "h⋅cos(a) + k - x⋅sin(a)\n",
       "───────────────────────\n",
       "         _________     \n",
       "        ╱  2    2      \n",
       "      ╲╱  h  + x       "
      ]
     },
     "execution_count": 77,
     "metadata": {},
     "output_type": "execute_result"
    }
   ],
   "source": [
    "l = sympy.sqrt(x**2 + h**2)\n",
    "eqs4 = eqs3.simplify()/l\n",
    "eqs4"
   ]
  },
  {
   "cell_type": "code",
   "execution_count": 78,
   "metadata": {},
   "outputs": [
    {
     "data": {
      "image/png": "[encoded data removed]",
      "text/latex": [
       "$$\\left [ - 2 \\operatorname{atan}{\\left (\\frac{1}{h - k} \\left(x - \\sqrt{h^{2} - k^{2} + x^{2}}\\right) \\right )}, \\quad - 2 \\operatorname{atan}{\\left (\\frac{1}{h - k} \\left(x + \\sqrt{h^{2} - k^{2} + x^{2}}\\right) \\right )}\\right ]$$"
      ],
      "text/plain": [
       "⎡       ⎛       ______________⎞         ⎛       ______________⎞⎤\n",
       "⎢       ⎜      ╱  2    2    2 ⎟         ⎜      ╱  2    2    2 ⎟⎥\n",
       "⎢       ⎜x - ╲╱  h  - k  + x  ⎟         ⎜x + ╲╱  h  - k  + x  ⎟⎥\n",
       "⎢-2⋅atan⎜─────────────────────⎟, -2⋅atan⎜─────────────────────⎟⎥\n",
       "⎣       ⎝        h - k        ⎠         ⎝        h - k        ⎠⎦"
      ]
     },
     "execution_count": 78,
     "metadata": {},
     "output_type": "execute_result"
    }
   ],
   "source": [
    "sympy.solve(eqs4, a)"
   ]
  },
  {
   "cell_type": "code",
   "execution_count": null,
   "metadata": {
    "collapsed": true
   },
   "outputs": [],
   "source": []
  },
  {
   "cell_type": "code",
   "execution_count": null,
   "metadata": {
    "collapsed": true
   },
   "outputs": [],
   "source": [
    "# Use the law of cosines on the triangle between hypot hx and other sides"
   ]
  }
 ],
 "metadata": {
  "kernelspec": {
   "display_name": "Python 3",
   "language": "python",
   "name": "python3"
  },
  "language_info": {
   "codemirror_mode": {
    "name": "ipython",
    "version": 3
   },
   "file_extension": ".py",
   "mimetype": "text/x-python",
   "name": "python",
   "nbconvert_exporter": "python",
   "pygments_lexer": "ipython3",
   "version": "3.6.1"
  }
 },
 "nbformat": 4,
 "nbformat_minor": 2
}
