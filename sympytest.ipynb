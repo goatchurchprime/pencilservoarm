{
 "cells": [
  {
   "cell_type": "code",
   "execution_count": 1,
   "metadata": {
    "collapsed": true
   },
   "outputs": [],
   "source": [
    "import sympy, math\n",
    "from sympy.interactive import printing\n",
    "printing.init_printing(use_latex=True)\n"
   ]
  },
  {
   "cell_type": "code",
   "execution_count": 3,
   "metadata": {},
   "outputs": [
    {
     "data": {
      "image/png": "[encoded data removed]",
      "text/latex": [
       "$$\\operatorname{atan}{\\left (x^{2} \\right )}$$"
      ],
      "text/plain": [
       "    ⎛ 2⎞\n",
       "atan⎝x ⎠"
      ]
     },
     "execution_count": 3,
     "metadata": {},
     "output_type": "execute_result"
    }
   ],
   "source": [
    "x = sympy.symbols(\"x\")\n",
    "sympy.atan(x**2)"
   ]
  },
  {
   "cell_type": "code",
   "execution_count": 4,
   "metadata": {},
   "outputs": [
    {
     "data": {
      "image/png": "[encoded data removed]",
      "text/latex": [
       "$$\\operatorname{acos}{\\left (\\frac{1}{s} \\left(- h + p \\sin{\\left (2 \\operatorname{atan}{\\left (\\frac{1}{h^{2} + p^{2} + 2 p x - s^{2} + x^{2}} \\left(2 h p + \\sqrt{- h^{4} + 2 h^{2} p^{2} + 2 h^{2} s^{2} - 2 h^{2} x^{2} - p^{4} + 2 p^{2} s^{2} + 2 p^{2} x^{2} - s^{4} + 2 s^{2} x^{2} - x^{4}}\\right) \\right )} \\right )}\\right) \\right )}$$"
      ],
      "text/plain": [
       "    ⎛          ⎛      ⎛           ____________________________________________\n",
       "    ⎜          ⎜      ⎜          ╱    4      2  2      2  2      2  2    4    \n",
       "    ⎜          ⎜      ⎜2⋅h⋅p + ╲╱  - h  + 2⋅h ⋅p  + 2⋅h ⋅s  - 2⋅h ⋅x  - p  + 2\n",
       "    ⎜-h + p⋅sin⎜2⋅atan⎜───────────────────────────────────────────────────────\n",
       "    ⎜          ⎜      ⎜                                  2    2            2  \n",
       "    ⎜          ⎝      ⎝                                 h  + p  + 2⋅p⋅x - s  +\n",
       "acos⎜─────────────────────────────────────────────────────────────────────────\n",
       "    ⎝                                                       s                 \n",
       "\n",
       "_____________________________________⎞⎞⎞\n",
       "  2  2      2  2    4      2  2    4 ⎟⎟⎟\n",
       "⋅p ⋅s  + 2⋅p ⋅x  - s  + 2⋅s ⋅x  - x  ⎟⎟⎟\n",
       "─────────────────────────────────────⎟⎟⎟\n",
       "  2                                  ⎟⎟⎟\n",
       " x                                   ⎠⎠⎟\n",
       "───────────────────────────────────────⎟\n",
       "                                       ⎠"
      ]
     },
     "execution_count": 4,
     "metadata": {},
     "output_type": "execute_result"
    }
   ],
   "source": [
    "a, b, h, x, p, s = sympy.symbols(\"a b h x p s\")\n",
    "sympy.acos(-(h - p*sympy.sin(2*sympy.atan((2*h*p + sympy.sqrt(-h**4 + 2*h**2*p**2 + 2*h**2*s**2 - 2*h**2*x**2 - p**4 + 2*p**2*s**2 + 2*p**2*x**2 - s**4 + 2*s**2*x**2 - x**4))/(h**2 + p**2 + 2*p*x - s**2 + x**2))))/s)\n"
   ]
  },
  {
   "cell_type": "code",
   "execution_count": null,
   "metadata": {
    "collapsed": true
   },
   "outputs": [],
   "source": []
  }
 ],
 "metadata": {
  "kernelspec": {
   "display_name": "Python 3",
   "language": "python",
   "name": "python3"
  },
  "language_info": {
   "codemirror_mode": {
    "name": "ipython",
    "version": 3
   },
   "file_extension": ".py",
   "mimetype": "text/x-python",
   "name": "python",
   "nbconvert_exporter": "python",
   "pygments_lexer": "ipython3",
   "version": "3.6.1"
  }
 },
 "nbformat": 4,
 "nbformat_minor": 2
}
