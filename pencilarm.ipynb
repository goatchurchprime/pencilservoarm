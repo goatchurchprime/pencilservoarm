{
 "cells": [
  {
   "cell_type": "code",
   "execution_count": 1,
   "metadata": {},
   "outputs": [
    {
     "name": "stdout",
     "output_type": "stream",
     "text": [
      "Connecting to Serial(/dev/ttyUSB0, 115200)\n",
      "ready"
     ]
    }
   ],
   "source": [
    "%%CONN /dev/ttyUSB0 115200"
   ]
  },
  {
   "cell_type": "code",
   "execution_count": 2,
   "metadata": {},
   "outputs": [
    {
     "name": "stdout",
     "output_type": "stream",
     "text": [
      "59 lines sent"
     ]
    }
   ],
   "source": [
    "%%FILE pca9685.py\n",
    "\n",
    "import ustruct\n",
    "import time\n",
    "\n",
    "\n",
    "class PCA9685:\n",
    "    def __init__(self, i2c, address=0x40):\n",
    "        self.i2c = i2c\n",
    "        self.address = address\n",
    "        self.reset()\n",
    "\n",
    "    def _write(self, address, value):\n",
    "        self.i2c.writeto_mem(self.address, address, bytearray([value]))\n",
    "\n",
    "    def _read(self, address):\n",
    "        return self.i2c.readfrom_mem(self.address, address, 1)[0]\n",
    "\n",
    "    def reset(self):\n",
    "        self._write(0x00, 0x00) # Mode1\n",
    "\n",
    "    def freq(self, freq=None):\n",
    "        if freq is None:\n",
    "            return int(25000000.0 / 4096 / (self._read(0xfe) - 0.5))\n",
    "        prescale = int(25000000.0 / 4096.0 / freq + 0.5)\n",
    "        old_mode = self._read(0x00) # Mode 1\n",
    "        self._write(0x00, (old_mode & 0x7F) | 0x10) # Mode 1, sleep\n",
    "        self._write(0xfe, prescale) # Prescale\n",
    "        self._write(0x00, old_mode) # Mode 1\n",
    "        time.sleep_us(5)\n",
    "        self._write(0x00, old_mode | 0xa1) # Mode 1, autoincrement on\n",
    "\n",
    "    def pwm(self, index, on=None, off=None):\n",
    "        if on is None or off is None:\n",
    "            data = self.i2c.readfrom_mem(self.address, 0x06 + 4 * index, 4)\n",
    "            return ustruct.unpack('<HH', data)\n",
    "        data = ustruct.pack('<HH', on, off)\n",
    "        self.i2c.writeto_mem(self.address, 0x06 + 4 * index,  data)\n",
    "\n",
    "    def duty(self, index, value=None, invert=False):\n",
    "        if value is None:\n",
    "            pwm = self.pwm(index)\n",
    "            if pwm == (0, 4096):\n",
    "                value = 0\n",
    "            elif pwm == (4096, 0):\n",
    "                value = 4095\n",
    "            value = pwm[1]\n",
    "            if invert:\n",
    "                value = 4095 - value\n",
    "            return value\n",
    "        if not 0 <= value <= 4095:\n",
    "            raise ValueError(\"Out of range\")\n",
    "        if invert:\n",
    "            value = 4095 - value\n",
    "        if value == 0:\n",
    "            self.pwm(index, 0, 4096)\n",
    "        elif value == 4095:\n",
    "            self.pwm(index, 4096, 0)\n",
    "        else:\n",
    "            self.pwm(index, 0, value)\n",
    "\n"
   ]
  },
  {
   "cell_type": "code",
   "execution_count": 2,
   "metadata": {},
   "outputs": [
    {
     "name": "stdout",
     "output_type": "stream",
     "text": [
      "['boot.py', 'webrepl_cfg.py', 'pca9685.py', 'mcode.py']\n"
     ]
    }
   ],
   "source": [
    "import os\n",
    "print(os.listdir())"
   ]
  },
  {
   "cell_type": "code",
   "execution_count": 3,
   "metadata": {},
   "outputs": [
    {
     "name": "stdout",
     "output_type": "stream",
     "text": [
      "[64, 112]\n"
     ]
    }
   ],
   "source": [
    "import machine, time, math\n",
    "i2c = machine.I2C(scl=machine.Pin(5), sda=machine.Pin(4))\n",
    "print(i2c.scan())"
   ]
  },
  {
   "cell_type": "code",
   "execution_count": 4,
   "metadata": {},
   "outputs": [
    {
     "name": "stdout",
     "output_type": "stream",
     "text": []
    }
   ],
   "source": [
    "import pca9685\n",
    "c = pca9685.PCA9685(i2c)\n",
    "c.freq(50)"
   ]
  },
  {
   "cell_type": "code",
   "execution_count": 5,
   "metadata": {},
   "outputs": [
    {
     "name": "stdout",
     "output_type": "stream",
     "text": []
    }
   ],
   "source": [
    "def ang(g):  # 0.5  mid 1.5  high 2.5\n",
    "    return((0.5 + g/180*2.0)/(1000/c.freq())*4096)"
   ]
  },
  {
   "cell_type": "code",
   "execution_count": 7,
   "metadata": {},
   "outputs": [
    {
     "name": "stdout",
     "output_type": "stream",
     "text": []
    }
   ],
   "source": [
    "cpos = []"
   ]
  },
  {
   "cell_type": "code",
   "execution_count": 60,
   "metadata": {},
   "outputs": [
    {
     "name": "stdout",
     "output_type": "stream",
     "text": []
    }
   ],
   "source": [
    "d = 0.001*2\n",
    "def m01(v0, v1, v2):\n",
    "    if not cpos:\n",
    "        cpos.extend([v0, v1, v2])\n",
    "        n = 1\n",
    "    else:\n",
    "        n = max(abs(v0 - cpos[0]), abs(v1 - cpos[1]), abs(v2 - cpos[2]))\n",
    "    for i in range(1, n+1):\n",
    "        c.duty(0, int(cpos[0] + (i/n)*(v0 - cpos[0])))\n",
    "        c.duty(1, int(cpos[1] + (i/n)*(v1 - cpos[1])))\n",
    "        c.duty(2, int(cpos[2] + (i/n)*(v2 - cpos[2])))\n",
    "        time.sleep(d)\n",
    "    cpos[0], cpos[1], cpos[2] = v0, v1, v2\n",
    "\n",
    "def m01d(v0, v1, v2):\n",
    "    c.duty(0, int(v0))\n",
    "    c.duty(1, int(v1))\n",
    "    c.duty(2, int(v2))\n",
    "    cpos[0], cpos[1], cpos[2] = v0, v1, v2\n"
   ]
  },
  {
   "cell_type": "code",
   "execution_count": 9,
   "metadata": {},
   "outputs": [
    {
     "name": "stdout",
     "output_type": "stream",
     "text": []
    }
   ],
   "source": [
    "\n",
    "# servo1 has angle perp to arm at 120; subtract to tilt down \n",
    "# servo2 has angle upright at 105; subtract to tilt forwards\n",
    "# servo3 along board at 130; subtract to turn clockwise\n",
    "# height of servo2 axle is 37mm\n",
    "# servo2 to servo1 axle is 73mm\n",
    "# pencil length 150mm"
   ]
  },
  {
   "cell_type": "code",
   "execution_count": 10,
   "metadata": {},
   "outputs": [
    {
     "name": "stdout",
     "output_type": "stream",
     "text": []
    }
   ],
   "source": [
    "m01(ang(118), ang(138), ang(130))"
   ]
  },
  {
   "cell_type": "code",
   "execution_count": 16,
   "metadata": {},
   "outputs": [
    {
     "name": "stdout",
     "output_type": "stream",
     "text": [
      "xrange 100.671 212.942\n"
     ]
    }
   ],
   "source": [
    "a0 = 138  # servo2 arm vertical\n",
    "b0 = 118  # servo1 pencil horizontal\n",
    "\n",
    "h = 43.8  # height servo2 axle\n",
    "s = 67.4  # servo1 to 2 axle dist\n",
    "p = 150   # pencil length\n",
    "e = 39.7  # servo3 to pencil centre dist\n",
    "\n",
    "hps1 = -h**2 + (p+s)**2\n",
    "hps2 = h**2 - (p-s)**2\n",
    "hps3 = (h-s)**2 - p**2\n",
    "\n",
    "minx = math.sqrt(p**2 - (h+s)**2)\n",
    "maxx = math.sqrt(hps1)\n",
    "print(\"xrange\", minx, maxx)\n",
    "\n",
    "m01(ang(b0), ang(a0), ang(130))"
   ]
  },
  {
   "cell_type": "code",
   "execution_count": 42,
   "metadata": {},
   "outputs": [
    {
     "name": "stdout",
     "output_type": "stream",
     "text": []
    }
   ],
   "source": [
    "m01(ang(b0), ang(a0), ang(150))"
   ]
  },
  {
   "cell_type": "code",
   "execution_count": 32,
   "metadata": {},
   "outputs": [
    {
     "name": "stdout",
     "output_type": "stream",
     "text": []
    }
   ],
   "source": [
    "# a is tilt of s21 from vertical, b is angle of p from horizontal\n",
    "# h + s*cos(a) = p*sin(b)\n",
    "# x = s*sin(a) + p*cos(b)\n",
    "\n",
    "def solveab(x):\n",
    "    x2 = x**2\n",
    "    a = 2*math.atan((2*s*x - math.sqrt((hps1 - x2)*(hps2 + x2)))/(hps3 + x2))\n",
    "    b = math.acos((-s*math.sin(a) + x)/p)\n",
    "    return math.degrees(a), math.degrees(b)\n"
   ]
  },
  {
   "cell_type": "code",
   "execution_count": 44,
   "metadata": {},
   "outputs": [
    {
     "name": "stdout",
     "output_type": "stream",
     "text": []
    }
   ],
   "source": [
    "r0, t0 = 120, 150\n",
    "a, b = solveab(r0)\n",
    "m01(ang(b0-(b-a)), ang(a0-a), ang(t0))"
   ]
  },
  {
   "cell_type": "code",
   "execution_count": 57,
   "metadata": {},
   "outputs": [
    {
     "name": "stdout",
     "output_type": "stream",
     "text": []
    }
   ],
   "source": [
    "def xy(x, y, bplus=0):\n",
    "    rlsq = (e+x)**2 + (r0+y)**2\n",
    "    r = math.sqrt(rlsq - e**2)\n",
    "    t = math.degrees(math.atan(r/e) - math.atan((r0+y)/(e+x)))\n",
    "    a, b = solveab(r)\n",
    "    m01d(ang(b0-(b-a)+bplus), ang(a0-a), ang(t0-t))\n",
    "                     "
   ]
  },
  {
   "cell_type": "code",
   "execution_count": 61,
   "metadata": {},
   "outputs": [
    {
     "name": "stdout",
     "output_type": "stream",
     "text": []
    }
   ],
   "source": [
    "# steps through at 1mm steps and sleeps between to handle feedrate\n",
    "feedrate = 100  # mm/sec\n",
    "xypos = [ 0, 0 ]\n",
    "def xyf(x, y, bplus=0):\n",
    "    n = max(abs(x-xypos[0]), abs(y-xypos[1]), 1)\n",
    "    for i in range(0, n+1):\n",
    "        l = i/n\n",
    "        xy(xypos[0]*(1-l) + x*l, xypos[1]*(1-l) + y*l, bplus)\n",
    "        time.sleep(1/feedrate)\n",
    "    xypos[0], xypos[1] = x, y"
   ]
  },
  {
   "cell_type": "code",
   "execution_count": 66,
   "metadata": {},
   "outputs": [
    {
     "name": "stdout",
     "output_type": "stream",
     "text": []
    }
   ],
   "source": [
    "xyf(0,-20)"
   ]
  },
  {
   "cell_type": "code",
   "execution_count": 88,
   "metadata": {},
   "outputs": [
    {
     "name": "stdout",
     "output_type": "stream",
     "text": []
    }
   ],
   "source": [
    "feedrate = 200\n",
    "x0 = 0\n",
    "y0 = -20\n",
    "for i in range(5):\n",
    "    xyf(x0+10,y0+10)\n",
    "    xyf(x0+10,y0-10, 15)\n",
    "    xyf(x0+-10,y0-10)\n",
    "    xyf(x0+-10,y0+10)\n",
    "    xyf(x0+10,y0+10)\n",
    "\n"
   ]
  },
  {
   "cell_type": "code",
   "execution_count": 87,
   "metadata": {},
   "outputs": [
    {
     "name": "stdout",
     "output_type": "stream",
     "text": []
    }
   ],
   "source": [
    "feedrate = 100\n",
    "for i in range(-20, 22, 2):\n",
    "    xyf(x0-i,y0+i, 15)\n",
    "    xyf(x0-i+20,y0+i+20, 0)\n"
   ]
  },
  {
   "cell_type": "code",
   "execution_count": 112,
   "metadata": {},
   "outputs": [
    {
     "name": "stdout",
     "output_type": "stream",
     "text": []
    }
   ],
   "source": [
    "feedrate = 30\n",
    "xyf(x0-30,y0+40-30, 0)\n",
    "xyf(x0,y0+40, 0)\n",
    "\n",
    "time.sleep(1)\n",
    "xyf(x0+30,y0+40-30, 0)\n",
    "xyf(x0,y0+40, 0)\n"
   ]
  },
  {
   "cell_type": "code",
   "execution_count": 113,
   "metadata": {},
   "outputs": [
    {
     "name": "stdout",
     "output_type": "stream",
     "text": []
    }
   ],
   "source": [
    "feedrate = 200\n",
    "for i in range(0, 22, 2):\n",
    "    xyf(x0+20+i,y0-20+i, 10)\n",
    "    xyf(x0+i-20,y0+i+20, 0)\n",
    "\n",
    "    "
   ]
  },
  {
   "cell_type": "code",
   "execution_count": null,
   "metadata": {
    "collapsed": true
   },
   "outputs": [],
   "source": [
    "for cr in range(5, 35, 5):\n",
    "    for i in range(260):\n",
    "        xy(20+math.sin(i*0.2)*cr, math.cos(i*0.2)*cr)\n"
   ]
  },
  {
   "cell_type": "code",
   "execution_count": null,
   "metadata": {
    "collapsed": true
   },
   "outputs": [],
   "source": []
  }
 ],
 "metadata": {
  "kernelspec": {
   "display_name": "MicroPython - /dev/ttyUSB0",
   "language": "micropython",
   "name": "micropython"
  },
  "language_info": {
   "codemirror_mode": "python",
   "file_extension": ".py",
   "mimetype": "text/python",
   "name": "micropython"
  }
 },
 "nbformat": 4,
 "nbformat_minor": 2
}
